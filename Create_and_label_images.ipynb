{
 "cells": [
  {
   "cell_type": "markdown",
   "id": "ff544e87",
   "metadata": {},
   "source": [
    "# Extract images from the video"
   ]
  },
  {
   "cell_type": "markdown",
   "id": "e1019843",
   "metadata": {},
   "source": [
    "## Installing packages and creating folders"
   ]
  },
  {
   "cell_type": "code",
   "execution_count": 1,
   "id": "86f78b0b",
   "metadata": {},
   "outputs": [],
   "source": [
    "# install required libraries "
   ]
  },
  {
   "cell_type": "code",
   "execution_count": null,
   "id": "107c3de3",
   "metadata": {},
   "outputs": [],
   "source": [
    "!pip install opencv-python\n",
    "!pip install Pillow"
   ]
  },
  {
   "cell_type": "code",
   "execution_count": 2,
   "id": "a5109001",
   "metadata": {},
   "outputs": [],
   "source": [
    "import cv2\n",
    "import os\n",
    "from PIL import Image"
   ]
  },
  {
   "cell_type": "code",
   "execution_count": 3,
   "id": "72baf73f",
   "metadata": {},
   "outputs": [
    {
     "name": "stdout",
     "output_type": "stream",
     "text": [
      "D:/Video/psy_videos/psy_videos/14_38.avi\n"
     ]
    }
   ],
   "source": [
    "#Path to the video\n",
    "BASE_PATH = \"D:/Video/psy_videos/psy_videos/\"   #*Change the dir\n",
    "VIDEO_NAME = '14_38.avi'                        #*Change the name  \n",
    "\n",
    "VIDEO_PATH = os.path.join(BASE_PATH, VIDEO_NAME)\n",
    "print(VIDEO_PATH)"
   ]
  },
  {
   "cell_type": "markdown",
   "id": "769e774c",
   "metadata": {},
   "source": [
    "### to display the script log, run it on the command line"
   ]
  },
  {
   "cell_type": "code",
   "execution_count": 4,
   "id": "92094ddb",
   "metadata": {},
   "outputs": [
    {
     "name": "stdout",
     "output_type": "stream",
     "text": [
      "^C\n"
     ]
    }
   ],
   "source": [
    "#In my case I have a two stucked videos, I need capture and separate it \n",
    "\n",
    "#Run capture and crop skript \n",
    "!python capure_crop_skript.py --video_path {VIDEO_PATH}"
   ]
  },
  {
   "cell_type": "code",
   "execution_count": null,
   "id": "591fca12",
   "metadata": {},
   "outputs": [],
   "source": [
    "#Run capture skript \n",
    "!python capure_skript.py --video_path {VIDEO_PATH}"
   ]
  },
  {
   "cell_type": "markdown",
   "id": "b7491280",
   "metadata": {},
   "source": [
    "# Image labelling "
   ]
  },
  {
   "cell_type": "code",
   "execution_count": 123,
   "id": "8775b273",
   "metadata": {},
   "outputs": [
    {
     "name": "stdout",
     "output_type": "stream",
     "text": [
      "c:\\users\\denko\\desktop\\tensorflow object detection\\create-image-dataset-from-video\n"
     ]
    }
   ],
   "source": [
    "PROJECT_PATH = 'c:/users/denko/desktop/tensorflow object detection/create-image-dataset-from-video'\n",
    "os.chdir(PROJECT_PATH)\n",
    "\n",
    "print(os.getcwd())"
   ]
  },
  {
   "cell_type": "code",
   "execution_count": null,
   "id": "cf408336",
   "metadata": {},
   "outputs": [],
   "source": [
    "#instal qt\n",
    "!pip install --upgrade pyqt5 lxml"
   ]
  },
  {
   "cell_type": "code",
   "execution_count": null,
   "id": "bf8a46d9",
   "metadata": {},
   "outputs": [],
   "source": [
    "# define folder for labeimg \n",
    "LABELIMG_PATH = 'labelimg'"
   ]
  },
  {
   "cell_type": "code",
   "execution_count": null,
   "id": "02140152",
   "metadata": {},
   "outputs": [],
   "source": [
    "# clone repo to LABELIMG_PATH\n",
    "if not os.path.exists(LABELIMG_PATH):\n",
    "    !mkdir {LABELIMG_PATH}\n",
    "    !git clone https://github.com/tzutalin/labelImg {LABELIMG_PATH}"
   ]
  },
  {
   "cell_type": "code",
   "execution_count": null,
   "id": "3bc16bc6",
   "metadata": {},
   "outputs": [],
   "source": [
    "if os.name == 'posix':\n",
    "    !make qt5py3\n",
    "if os.name =='nt':\n",
    "    !cd {LABELIMG_PATH} && pyrcc5 -o libs/resources.py resources.qrc"
   ]
  },
  {
   "cell_type": "code",
   "execution_count": null,
   "id": "238ae8ba",
   "metadata": {},
   "outputs": [],
   "source": [
    "# RUN Label IMG\n",
    "!cd {LABELIMG_PATH} && python labelImg.py"
   ]
  },
  {
   "cell_type": "markdown",
   "id": "094adf9d",
   "metadata": {},
   "source": [
    "# Move images into a Training and Testing Partition"
   ]
  },
  {
   "cell_type": "markdown",
   "id": "50320835",
   "metadata": {},
   "source": [
    "# Compress them for Colab Training"
   ]
  },
  {
   "cell_type": "code",
   "execution_count": 124,
   "id": "25805fa4",
   "metadata": {},
   "outputs": [],
   "source": [
    "import os\n",
    "\n",
    "#define images path\n",
    "IMAGES_DIR = 'croped_images'\n",
    "IMAGES_PATH = os.path.join(BASE_PATH, IMAGES_DIR)\n",
    "os.chdir(IMAGES_PATH)\n",
    "\n",
    "TRAIN_PATH = os.path.join('train')\n",
    "TEST_PATH = os.path.join( 'test')\n",
    "ARCHIVE_PATH = 'archive.tar.gz'"
   ]
  },
  {
   "cell_type": "code",
   "execution_count": 125,
   "id": "84dbed07",
   "metadata": {},
   "outputs": [],
   "source": [
    "!tar -czf {ARCHIVE_PATH} {TRAIN_PATH} {TEST_PATH}"
   ]
  }
 ],
 "metadata": {
  "kernelspec": {
   "display_name": "dataenv",
   "language": "python",
   "name": "dataenv"
  },
  "language_info": {
   "codemirror_mode": {
    "name": "ipython",
    "version": 3
   },
   "file_extension": ".py",
   "mimetype": "text/x-python",
   "name": "python",
   "nbconvert_exporter": "python",
   "pygments_lexer": "ipython3",
   "version": "3.9.0"
  }
 },
 "nbformat": 4,
 "nbformat_minor": 5
}
